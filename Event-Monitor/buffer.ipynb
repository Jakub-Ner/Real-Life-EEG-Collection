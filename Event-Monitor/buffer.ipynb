{
 "cells": [
  {
   "cell_type": "code",
   "execution_count": 46,
   "metadata": {},
   "outputs": [],
   "source": [
    "import numpy as np\n",
    "import matplotlib.pyplot as plt\n",
    "from matplotlib.lines import Line2D\n",
    "\n",
    "channels = [\n",
    "  {'name':\"alpha\", 'columns':slice(16, 25, 1)},\n",
    "  {'name':\"beta\", 'columns':slice(17, 26, 1)},\n",
    "]\n",
    "buffer = np.zeros((4, len(channels) + 1),)\n",
    "i = 0\n",
    "def mean(row):\n",
    "  return row.mean(axis=0)\n",
    "func = mean"
   ]
  },
  {
   "cell_type": "code",
   "execution_count": 49,
   "metadata": {},
   "outputs": [],
   "source": [
    "row1 = np.array([\n",
    "  15.093,16.585,17.877,18.292,18.667,15.536,17.226,15.359,13.659,10.647,11.716,12.832,10.273,10.187,12.236,12.543,9.692,6.498,8.167,7.983,7.934,8.196,8.496,6.969,9.109,7.928,9.288,8.964,10.002,10.749,10.301,8.172,6.281,5.929,5.055,7.771,5.108,6.570,5.933,6.486,7.116,6.691,6.377,8.424,5.625,7.402,7.411,7.200,5.898,7.038,7.856,7.273,9.968,10.594,10.013,7.855,16.829,11.762,7.992,9.314,6.142,7.031,8.312,16.858,13.732,9.046,7.277,7.261,8.219,6.863,0\n",
    "])\n",
    "# row1 = np.ones(71,)\n",
    "\n",
    "data = [ func(row1[ch['columns']]) for ch in channels ] + [row1[-1]]\n",
    "aggregated_row = np.array(data)\n",
    "aggregated_row.shape\n",
    "\n",
    "buffer[i] = aggregated_row\n",
    "i = (i+1) % 4"
   ]
  },
  {
   "cell_type": "code",
   "execution_count": 50,
   "metadata": {},
   "outputs": [
    {
     "data": {
      "text/plain": [
       "(array([[8.116, 7.92 , 0.   ],\n",
       "        [8.116, 7.92 , 1.   ],\n",
       "        [0.   , 0.   , 0.   ],\n",
       "        [0.   , 0.   , 0.   ]]),\n",
       " 2)"
      ]
     },
     "execution_count": 50,
     "metadata": {},
     "output_type": "execute_result"
    }
   ],
   "source": [
    "buffer, i"
   ]
  },
  {
   "cell_type": "code",
   "execution_count": 51,
   "metadata": {},
   "outputs": [
    {
     "data": {
      "text/plain": [
       "array([[1.   , 0.   , 0.   ],\n",
       "       [1.   , 0.   , 0.   ],\n",
       "       [9.116, 7.92 , 0.   ],\n",
       "       [9.116, 7.92 , 1.   ]])"
      ]
     },
     "execution_count": 51,
     "metadata": {},
     "output_type": "execute_result"
    }
   ],
   "source": [
    "buffer_get = np.vstack((buffer[i:], buffer[:i]))\n",
    "buffer_get[:, 0] = buffer_get[:, 0] + 1\n",
    "buffer_get"
   ]
  },
  {
   "cell_type": "code",
   "execution_count": 41,
   "metadata": {},
   "outputs": [
    {
     "data": {
      "text/plain": [
       "[]"
      ]
     },
     "execution_count": 41,
     "metadata": {},
     "output_type": "execute_result"
    },
    {
     "data": {
      "image/png": "[encoded data removed]",
      "text/plain": [
       "<Figure size 500x300 with 1 Axes>"
      ]
     },
     "metadata": {},
     "output_type": "display_data"
    }
   ],
   "source": [
    "figure = plt.figure(figsize=(5, 3))\n",
    "ax = figure.add_subplot(111)\n",
    "# plot = ax.plot(buffer_get, label=[ch['name'] for ch in channels])\n",
    "\n",
    "# ax.legend([ch['name'] for ch in channels])\n",
    "X_LABELS = [\"t-3\", \"t-2\", \"t-1\", \"t\"]\n",
    "ax.set_xticks(range(4))\n",
    "ax.set_xticklabels(X_LABELS)\n",
    "ax.set_xlabel(\"Time\")\n",
    "ax.set_ylabel(func.__name__)\n",
    "Y_LABELS = range(0, 20, 4)  \n",
    "ax.set_yticks(Y_LABELS)\n",
    "ax.set_yticklabels(Y_LABELS)\n",
    "\n",
    "\n",
    "plota = Line2D([], [])\n",
    "plota.set_label(\"alpha\")\n",
    "plota.set_color('blue')\n",
    "\n",
    "plotb = Line2D([], [])\n",
    "plotb.set_label(\"beta\")\n",
    "plotb.set_color('red')\n",
    "ax.add_line(plota)\n",
    "ax.add_line(plotb)\n",
    "\n",
    "\n",
    "\n",
    "plota.set_data(range(len(buffer_get)), buffer_get[:, 0])\n",
    "\n",
    "\n",
    "plotb.set_data(range(len(buffer_get)), buffer_get[:, 1])\n",
    "ax.axvline(x=1.5, color='black', linestyle='--') \n",
    "\n",
    "ax.legend()\n",
    "# set different colors to the lines\n",
    "ax.plot()"
   ]
  },
  {
   "cell_type": "code",
   "execution_count": 37,
   "metadata": {},
   "outputs": [
    {
     "data": {
      "text/plain": [
       "[]"
      ]
     },
     "execution_count": 37,
     "metadata": {},
     "output_type": "execute_result"
    }
   ],
   "source": [
    "plota.set_data(range(len(buffer_get)), buffer_get[:, 0])\n",
    "ax.add_line(plota)\n",
    "\n",
    "\n",
    "plotb.set_data(range(len(buffer_get)), buffer_get[:, 1])\n",
    "ax.add_line(plotb)\n",
    "\n",
    "ax.legend()\n",
    "# set different colors to the lines\n",
    "ax.plot()"
   ]
  },
  {
   "cell_type": "code",
   "execution_count": null,
   "metadata": {},
   "outputs": [],
   "source": []
  }
 ],
 "metadata": {
  "kernelspec": {
   "display_name": "base",
   "language": "python",
   "name": "python3"
  },
  "language_info": {
   "codemirror_mode": {
    "name": "ipython",
    "version": 3
   },
   "file_extension": ".py",
   "mimetype": "text/x-python",
   "name": "python",
   "nbconvert_exporter": "python",
   "pygments_lexer": "ipython3",
   "version": "3.11.5"
  }
 },
 "nbformat": 4,
 "nbformat_minor": 2
}
