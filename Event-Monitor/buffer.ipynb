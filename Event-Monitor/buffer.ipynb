{
 "cells": [
  {
   "cell_type": "code",
   "execution_count": 16,
   "metadata": {},
   "outputs": [],
   "source": [
    "import numpy as np\n",
    "import matplotlib.pyplot as plt\n",
    "from matplotlib.lines import Line2D\n",
    "\n",
    "channels = [\n",
    "  {'name':\"alpha\", 'columns':slice(16, 25, 1)},\n",
    "  {'name':\"beta\", 'columns':slice(17, 26, 1)},\n",
    "]\n",
    "buffer = np.zeros((4, len(channels) + 1),)\n",
    "i = 0\n",
    "def mean(row):\n",
    "  return row.mean(axis=0)\n",
    "func = mean"
   ]
  },
  {
   "cell_type": "code",
   "execution_count": 17,
   "metadata": {},
   "outputs": [],
   "source": [
    "row1 = np.array([\n",
    "  15.093,16.585,17.877,18.292,18.667,15.536,17.226,15.359,13.659,10.647,11.716,12.832,10.273,10.187,12.236,12.543,9.692,6.498,8.167,7.983,7.934,8.196,8.496,6.969,9.109,7.928,9.288,8.964,10.002,10.749,10.301,8.172,6.281,5.929,5.055,7.771,5.108,6.570,5.933,6.486,7.116,6.691,6.377,8.424,5.625,7.402,7.411,7.200,5.898,7.038,7.856,7.273,9.968,10.594,10.013,7.855,16.829,11.762,7.992,9.314,6.142,7.031,8.312,16.858,13.732,9.046,7.277,7.261,8.219,6.863,0\n",
    "])\n",
    "# row1 = np.ones(71,)\n",
    "\n",
    "data = [ func(row1[ch['columns']]) for ch in channels ] + [row1[-1]]\n",
    "aggregated_row = np.array(data)\n",
    "aggregated_row.shape\n",
    "\n",
    "buffer[i] = aggregated_row\n",
    "i = (i+1) % 4"
   ]
  },
  {
   "cell_type": "code",
   "execution_count": 18,
   "metadata": {},
   "outputs": [
    {
     "data": {
      "text/plain": [
       "(array([[8.116, 7.92 , 0.   ],\n",
       "        [0.   , 0.   , 0.   ],\n",
       "        [0.   , 0.   , 0.   ],\n",
       "        [0.   , 0.   , 0.   ]]),\n",
       " 1)"
      ]
     },
     "execution_count": 18,
     "metadata": {},
     "output_type": "execute_result"
    }
   ],
   "source": [
    "buffer, i"
   ]
  },
  {
   "cell_type": "code",
   "execution_count": 19,
   "metadata": {},
   "outputs": [
    {
     "data": {
      "text/plain": [
       "array([[1.   , 0.   , 0.   ],\n",
       "       [1.   , 0.   , 0.   ],\n",
       "       [1.   , 0.   , 0.   ],\n",
       "       [9.116, 7.92 , 0.   ]])"
      ]
     },
     "execution_count": 19,
     "metadata": {},
     "output_type": "execute_result"
    }
   ],
   "source": [
    "buffer_get = np.vstack((buffer[i:], buffer[:i]))\n",
    "buffer_get[:, 0] = buffer_get[:, 0] + 1\n",
    "buffer_get"
   ]
  },
  {
   "cell_type": "code",
   "execution_count": 36,
   "metadata": {},
   "outputs": [
    {
     "name": "stdout",
     "output_type": "stream",
     "text": [
      "[1.5, 1.5] [0, 1]\n",
      "<a list of 4 Line2D objects>\n"
     ]
    },
    {
     "data": {
      "text/plain": [
       "[]"
      ]
     },
     "execution_count": 36,
     "metadata": {},
     "output_type": "execute_result"
    },
    {
     "data": {
      "image/png": "[encoded data removed]",
      "text/plain": [
       "<Figure size 500x300 with 1 Axes>"
      ]
     },
     "metadata": {},
     "output_type": "display_data"
    }
   ],
   "source": [
    "figure = plt.figure(figsize=(5, 3))\n",
    "ax = figure.add_subplot(111)\n",
    "# plot = ax.plot(buffer_get, label=[ch['name'] for ch in channels])\n",
    "\n",
    "# ax.legend([ch['name'] for ch in channels])\n",
    "X_LABELS = [\"t-3\", \"t-2\", \"t-1\", \"t\"]\n",
    "ax.set_xticks(range(4))\n",
    "ax.set_xticklabels(X_LABELS)\n",
    "ax.set_xlabel(\"Time\")\n",
    "ax.set_ylabel(func.__name__)\n",
    "Y_LABELS = range(0, 20, 4)  \n",
    "ax.set_yticks(Y_LABELS)\n",
    "ax.set_yticklabels(Y_LABELS)\n",
    "\n",
    "i = 50\n",
    "\n",
    "\n",
    "sin_arr =  np.sin(np.linspace(0, 2 * np.pi, i))\n",
    "cos_arr =  np.cos(np.linspace(0, 2 * np.pi, i))\n",
    "\n",
    "sin_arr = np.concatenate([sin_arr for i in range(100)])\n",
    "cos_arr = np.concatenate([cos_arr for i in range(100)])\n",
    "\n",
    "plota = Line2D([], [])\n",
    "plota.set_label(\"alpha\")\n",
    "plota.set_color('blue')\n",
    "\n",
    "plotb = Line2D([], [])\n",
    "plotb.set_label(\"beta\")\n",
    "plotb.set_color('red')\n",
    "ax.add_line(plota)\n",
    "ax.add_line(plotb)\n",
    "\n",
    "\n",
    "plota.set_data(range(len(buffer_get)), buffer_get[:, 0])\n",
    "\n",
    "\n",
    "plotb.set_data(range(len(buffer_get)), buffer_get[:, 1])\n",
    "# ax.axvline(x=1.5, color='black', linestyle='--') \n",
    "markers_lines = [plt.axvline(x=1.5, color='black', linestyle='--')]\n",
    "\n",
    "prev_x, prev_y = markers_lines[0].get_data()\n",
    "print(prev_x, prev_y)\n",
    "\n",
    "ax.add_line(markers_lines[0])\n",
    "markers_lines[0].set_data([1, 1], prev_y)\n",
    "\n",
    "print(ax.get_lines())\n",
    "\n",
    "ax.legend()\n",
    "# set different colors to the lines\n",
    "ax.plot()"
   ]
  },
  {
   "cell_type": "code",
   "execution_count": 21,
   "metadata": {},
   "outputs": [
    {
     "data": {
      "text/plain": [
       "(2, 2.0)"
      ]
     },
     "execution_count": 21,
     "metadata": {},
     "output_type": "execute_result"
    }
   ],
   "source": [
    "import numpy as np\n",
    "arr2d = np.array([[1.312, 2.312, 1.0], [4.3211, 5.3211, 0.0], [6.3211, 7.3211, 2.0]])\n",
    "arr2d.shape\n",
    "arr2d[:, -1]\n",
    "\n",
    "markers = arr2d[:, -1]\n",
    "\n",
    "# np.where(markers == 1.0)\n",
    "non_zero = np.nonzero(markers)[0]\n",
    "non_zero[1], markers[non_zero[1]]"
   ]
  },
  {
   "cell_type": "code",
   "execution_count": 113,
   "metadata": {},
   "outputs": [
    {
     "name": "stdout",
     "output_type": "stream",
     "text": [
      "[1.5, 1.5] [0, 1]\n",
      "Line2D(_child2) Line2D(_child2)\n",
      "([<matplotlib.lines.Line2D object at 0x7532bf09efd0>, <matplotlib.lines.Line2D object at 0x7532bf118110>], ['alpha', 'beta'])\n",
      "<a list of 3 Line2D objects>\n",
      "list [<matplotlib.lines.Line2D object at 0x7532beddf910>]\n"
     ]
    },
    {
     "data": {
      "text/plain": [
       "[]"
      ]
     },
     "execution_count": 113,
     "metadata": {},
     "output_type": "execute_result"
    },
    {
     "data": {
      "image/png": "[encoded data removed]",
      "text/plain": [
       "<Figure size 500x300 with 1 Axes>"
      ]
     },
     "metadata": {},
     "output_type": "display_data"
    }
   ],
   "source": [
    "import matplotlib.patches as mpatches\n",
    "import numpy as np\n",
    "import matplotlib.pyplot as plt\n",
    "from matplotlib.lines import Line2D\n",
    "figure = plt.figure(figsize=(5, 3))\n",
    "ax = figure.add_subplot(111)\n",
    "# plot = ax.plot(buffer_get, label=[ch['name'] for ch in channels])\n",
    "\n",
    "# ax.legend([ch['name'] for ch in channels])\n",
    "X_LABELS = [\"t-3\", \"t-2\", \"t-1\", \"t\"]\n",
    "ax.set_xticks(range(4))\n",
    "ax.set_xticklabels(X_LABELS)\n",
    "ax.set_xlabel(\"Time\")\n",
    "Y_LABELS = range(-1, 2, 1)  \n",
    "ax.set_yticks(Y_LABELS)\n",
    "ax.set_yticklabels(Y_LABELS)\n",
    "\n",
    "i = 50\n",
    "\n",
    "\n",
    "sin_arr =  np.sin(np.linspace(0, 2 * np.pi, i))\n",
    "cos_arr =  np.cos(np.linspace(0, 2 * np.pi, i))\n",
    "\n",
    "sin_arr = np.concatenate([sin_arr for i in range(100)])\n",
    "cos_arr = np.concatenate([cos_arr for i in range(100)])\n",
    "\n",
    "plota = Line2D([], [])\n",
    "plota.set_label(\"alpha\")\n",
    "plota.set_color('blue')\n",
    "\n",
    "plotb = Line2D(range(3), list(np.sin(np.linspace(0, 2 * np.pi, 3))))\n",
    "plotb.set_label(\"beta\")\n",
    "plotb.set_color('red')\n",
    "ax.add_line(plota)\n",
    "ax.add_line(plotb)\n",
    "\n",
    "\n",
    "\n",
    "# plota.set_data(range(len(sin_arr)), sin_arr)\n",
    "# plotb.set_data(range(len(cos_arr)), cos_arr)\n",
    "markers_lines = [ax.axvline(x=1.5, color='black', linestyle='--')]\n",
    "\n",
    "prev_x, prev_y = markers_lines[0].get_data()\n",
    "print(prev_x, prev_y)\n",
    "\n",
    "markers_lines[0].set_data([0.5, 0.5], prev_y)\n",
    "\n",
    "# ax.lines.remove(markers_lines[0])\n",
    "print(markers_lines[0], ax.lines[-1])\n",
    "# l = markers_lines.pop()\n",
    "# l.remove()\n",
    "\n",
    "# ax.axvline(x=1.5, color='black', visible=False, label='test')\n",
    "# p1 = mpatches.Patch(color='black', ls='-', label='test', lw=0.1)\n",
    "print(ax.get_legend_handles_labels())\n",
    "# ax.lines.remove()\n",
    "print(ax.get_lines())\n",
    "\n",
    "print('list', markers_lines)\n",
    "ax.legend()\n",
    "# for artist in ax.get_legend_handles_labels()[0]:\n",
    "#   print(artist)\n",
    "#   ps.append(artist)\n",
    "# ax.legend(handles=ps,)\n",
    "\n",
    "ax.annotate('--- kill', color='black', xy=(10, 10), xycoords='axes points',\n",
    "            size=10,\n",
    "            )\n",
    "ax.annotate('--- boredoml', color='green', xy=(10, 20),\n",
    "            size=10,\n",
    "            )\n",
    "# set different colors to the lines\n",
    "ax.plot()"
   ]
  },
  {
   "cell_type": "code",
   "execution_count": 68,
   "metadata": {},
   "outputs": [
    {
     "name": "stdout",
     "output_type": "stream",
     "text": [
      "([<matplotlib.lines.Line2D object at 0x7532e80e4610>], ['beta'])\n"
     ]
    },
    {
     "data": {
      "text/plain": [
       "[]"
      ]
     },
     "execution_count": 68,
     "metadata": {},
     "output_type": "execute_result"
    },
    {
     "data": {
      "image/png": "[encoded data removed]",
      "text/plain": [
       "<Figure size 500x300 with 1 Axes>"
      ]
     },
     "metadata": {},
     "output_type": "display_data"
    }
   ],
   "source": [
    "import numpy as np\n",
    "import matplotlib.pyplot as plt\n",
    "from matplotlib.lines import Line2D\n",
    "\n",
    "i = 50\n",
    "\n",
    "sin_arr =  np.sin(np.linspace(0, 2 * np.pi, i))\n",
    "cos_arr =  np.cos(np.linspace(0, 2 * np.pi, i))\n",
    "\n",
    "sin_arr = np.concatenate([sin_arr for i in range(10)])\n",
    "cos_arr = np.concatenate([cos_arr for i in range(10)])\n",
    "\n",
    "\n",
    "figure = plt.figure(figsize=(5, 3))\n",
    "ax = figure.add_subplot(111)\n",
    "\n",
    "ax.set_xlabel(\"Time\")\n",
    "ax.set_xlim(0, len(cos_arr))\n",
    "ax.set_xticks(range(4), labels=['t1', 't2', 't3', 't4'])\n",
    "Y_LABELS = range(-2, 4, 1)  \n",
    "ax.set_yticks(Y_LABELS)\n",
    "ax.set_yticklabels(Y_LABELS)\n",
    "\n",
    "\n",
    "plotb = Line2D([], [])\n",
    "\n",
    "plotb.set_label(\"beta\")\n",
    "plotb.set_color('red')\n",
    "\n",
    "ax.add_line(plotb)\n",
    "\n",
    "\n",
    "plotb.set_data(range(len(cos_arr)), cos_arr)\n",
    "\n",
    "# ax.axvline(x=1.5, color='black', linestyle='--') \n",
    "ax.legend()\n",
    "ax.plot()"
   ]
  },
  {
   "cell_type": "code",
   "execution_count": 24,
   "metadata": {},
   "outputs": [
    {
     "data": {
      "text/plain": [
       "[-1, 0, 1]"
      ]
     },
     "execution_count": 24,
     "metadata": {},
     "output_type": "execute_result"
    }
   ],
   "source": [
    "list(range(-1, 2, 1) )"
   ]
  },
  {
   "cell_type": "code",
   "execution_count": 25,
   "metadata": {},
   "outputs": [
    {
     "data": {
      "text/plain": [
       "{'labels': ['-6s', '-4s', '-2s', 'Now'], 'ticks': range(20, 100, 20)}"
      ]
     },
     "execution_count": 25,
     "metadata": {},
     "output_type": "execute_result"
    }
   ],
   "source": [
    "from typing import Iterable\n",
    "def calculate_xticks(frequency: int, size: int, labels_num: int = 4) -> dict[str,Iterable]:\n",
    "  diff = size // (frequency * labels_num)\n",
    "  labels = [f'-{i*diff}s' for i in range(labels_num-1, 0, -1)] + ['Now']\n",
    "  ticks = range(diff * frequency, size, diff * frequency)\n",
    "  return {'labels': labels, 'ticks': ticks}\n",
    "\n",
    "calculate_xticks(10, 100, 4)"
   ]
  },
  {
   "cell_type": "code",
   "execution_count": null,
   "metadata": {},
   "outputs": [],
   "source": []
  }
 ],
 "metadata": {
  "kernelspec": {
   "display_name": "base",
   "language": "python",
   "name": "python3"
  },
  "language_info": {
   "codemirror_mode": {
    "name": "ipython",
    "version": 3
   },
   "file_extension": ".py",
   "mimetype": "text/x-python",
   "name": "python",
   "nbconvert_exporter": "python",
   "pygments_lexer": "ipython3",
   "version": "3.11.5"
  }
 },
 "nbformat": 4,
 "nbformat_minor": 2
}
